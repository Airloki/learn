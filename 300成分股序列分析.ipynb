{
 "cells": [
  {
   "cell_type": "code",
   "execution_count": 1,
   "metadata": {},
   "outputs": [
    {
     "name": "stderr",
     "output_type": "stream",
     "text": [
      "C:\\ProgramData\\Anaconda3\\lib\\site-packages\\statsmodels\\compat\\pandas.py:56: FutureWarning: The pandas.core.datetools module is deprecated and will be removed in a future version. Please use the pandas.tseries module instead.\n",
      "  from pandas.core import datetools\n"
     ]
    }
   ],
   "source": [
    "import tushare as tus\n",
    "import pandas as pd\n",
    "import numpy as np\n",
    "import statsmodels.tsa.stattools as ts"
   ]
  },
  {
   "cell_type": "code",
   "execution_count": 2,
   "metadata": {},
   "outputs": [
    {
     "name": "stdout",
     "output_type": "stream",
     "text": [
      "http://www.csindex.com.cn/uploads/file/autofile/closeweight/000300closeweight.xls\n"
     ]
    }
   ],
   "source": [
    "stocks300 = tus.get_hs300s().code"
   ]
  },
  {
   "cell_type": "code",
   "execution_count": 18,
   "metadata": {},
   "outputs": [
    {
     "data": {
      "text/plain": [
       "0"
      ]
     },
     "execution_count": 18,
     "metadata": {},
     "output_type": "execute_result"
    }
   ],
   "source": [
    "len(tus.get_hist_data('600485',start = '2017-01-01').close)"
   ]
  },
  {
   "cell_type": "code",
   "execution_count": 19,
   "metadata": {},
   "outputs": [],
   "source": [
    "L1 = []\n",
    "for stock in stocks300:\n",
    "    closePrice = np.array(tus.get_hist_data(stock,start='2017-01-01').close)\n",
    "    if len(closePrice) > 0:\n",
    "        Result = ts.adfuller(closePrice,1)[0]\n",
    "        if Result <= -2.5722606418188221:\n",
    "            L1.append(stock)"
   ]
  },
  {
   "cell_type": "code",
   "execution_count": 22,
   "metadata": {},
   "outputs": [
    {
     "data": {
      "text/plain": [
       "34"
      ]
     },
     "execution_count": 22,
     "metadata": {},
     "output_type": "execute_result"
    }
   ],
   "source": [
    "len(L1)"
   ]
  },
  {
   "cell_type": "code",
   "execution_count": 23,
   "metadata": {
    "collapsed": true
   },
   "outputs": [],
   "source": [
    "import math"
   ]
  },
  {
   "cell_type": "code",
   "execution_count": 36,
   "metadata": {},
   "outputs": [
    {
     "name": "stderr",
     "output_type": "stream",
     "text": [
      "C:\\ProgramData\\Anaconda3\\lib\\site-packages\\numpy\\core\\_methods.py:135: RuntimeWarning: Degrees of freedom <= 0 for slice\n",
      "  keepdims=keepdims)\n",
      "C:\\ProgramData\\Anaconda3\\lib\\site-packages\\numpy\\core\\_methods.py:105: RuntimeWarning: invalid value encountered in true_divide\n",
      "  arrmean, rcount, out=arrmean, casting='unsafe', subok=False)\n",
      "C:\\ProgramData\\Anaconda3\\lib\\site-packages\\numpy\\core\\_methods.py:127: RuntimeWarning: invalid value encountered in double_scalars\n",
      "  ret = ret.dtype.type(ret / rcount)\n",
      "C:\\ProgramData\\Anaconda3\\lib\\site-packages\\ipykernel_launcher.py:8: RuntimeWarning: divide by zero encountered in log\n",
      "  \n",
      "C:\\ProgramData\\Anaconda3\\lib\\site-packages\\ipykernel_launcher.py:8: RankWarning: Polyfit may be poorly conditioned\n",
      "  \n"
     ]
    }
   ],
   "source": [
    "L2 = {'mean_reverting':[],\n",
    "      'trending':[]}\n",
    "lags = range(2,100)\n",
    "for stock in stocks300:\n",
    "    closePrice = np.array(tus.get_hist_data(stock,start='2017-01-01').close)\n",
    "    if len(closePrice) > 0:\n",
    "        tau = [math.sqrt(np.std(np.subtract(closePrice[lag:],closePrice[:-lag])))for lag in lags]\n",
    "        poly = np.polyfit(np.log(lags),np.log(tau),1)\n",
    "        if poly[0]*2> 0.6:\n",
    "            L2['trending'].append(stock)\n",
    "        if poly[0]*2< 0.4:\n",
    "            L2['mean_reverting'].append(stock)"
   ]
  },
  {
   "cell_type": "code",
   "execution_count": 37,
   "metadata": {},
   "outputs": [
    {
     "data": {
      "text/plain": [
       "{'mean_reverting': ['600009',\n",
       "  '600010',\n",
       "  '600011',\n",
       "  '600015',\n",
       "  '600016',\n",
       "  '600018',\n",
       "  '600019',\n",
       "  '600021',\n",
       "  '600023',\n",
       "  '600028',\n",
       "  '600029',\n",
       "  '600030',\n",
       "  '600031',\n",
       "  '600036',\n",
       "  '600038',\n",
       "  '600048',\n",
       "  '600050',\n",
       "  '600066',\n",
       "  '600068',\n",
       "  '600085',\n",
       "  '600089',\n",
       "  '600100',\n",
       "  '600104',\n",
       "  '600109',\n",
       "  '600115',\n",
       "  '600118',\n",
       "  '600157',\n",
       "  '600177',\n",
       "  '600188',\n",
       "  '600196',\n",
       "  '600208',\n",
       "  '600221',\n",
       "  '600233',\n",
       "  '600271',\n",
       "  '600297',\n",
       "  '600309',\n",
       "  '600332',\n",
       "  '600340',\n",
       "  '600352',\n",
       "  '600362',\n",
       "  '600372',\n",
       "  '600376',\n",
       "  '600383',\n",
       "  '600390',\n",
       "  '600406',\n",
       "  '600415',\n",
       "  '600436',\n",
       "  '600482',\n",
       "  '600489',\n",
       "  '600518',\n",
       "  '600519',\n",
       "  '600522',\n",
       "  '600535',\n",
       "  '600547',\n",
       "  '600570',\n",
       "  '600585',\n",
       "  '600588',\n",
       "  '600606',\n",
       "  '600637',\n",
       "  '600649',\n",
       "  '600660',\n",
       "  '600674',\n",
       "  '600682',\n",
       "  '600685',\n",
       "  '600688',\n",
       "  '600690',\n",
       "  '600703',\n",
       "  '600704',\n",
       "  '600705',\n",
       "  '600739',\n",
       "  '600741',\n",
       "  '600795',\n",
       "  '600816',\n",
       "  '600820',\n",
       "  '600827',\n",
       "  '600837',\n",
       "  '600871',\n",
       "  '600893',\n",
       "  '600900',\n",
       "  '600909',\n",
       "  '600919',\n",
       "  '600926',\n",
       "  '600977',\n",
       "  '600999',\n",
       "  '601006',\n",
       "  '601009',\n",
       "  '601018',\n",
       "  '601021',\n",
       "  '601088',\n",
       "  '601117',\n",
       "  '601163',\n",
       "  '601166',\n",
       "  '601169',\n",
       "  '601186',\n",
       "  '601211',\n",
       "  '601212',\n",
       "  '601216',\n",
       "  '601225',\n",
       "  '601228',\n",
       "  '601229',\n",
       "  '601288',\n",
       "  '601318',\n",
       "  '601328',\n",
       "  '601333',\n",
       "  '601336',\n",
       "  '601375',\n",
       "  '601390',\n",
       "  '601398',\n",
       "  '601601',\n",
       "  '601608',\n",
       "  '601618',\n",
       "  '601628',\n",
       "  '601633',\n",
       "  '601668',\n",
       "  '601669',\n",
       "  '601766',\n",
       "  '601788',\n",
       "  '601800',\n",
       "  '601818',\n",
       "  '601857',\n",
       "  '601872',\n",
       "  '601877',\n",
       "  '601878',\n",
       "  '601898',\n",
       "  '601899',\n",
       "  '601919',\n",
       "  '601933',\n",
       "  '601939',\n",
       "  '601966',\n",
       "  '601985',\n",
       "  '601988',\n",
       "  '601989',\n",
       "  '601991',\n",
       "  '601992',\n",
       "  '601997',\n",
       "  '601998',\n",
       "  '603160',\n",
       "  '603799',\n",
       "  '603833',\n",
       "  '603858',\n",
       "  '603993',\n",
       "  '000001',\n",
       "  '000002',\n",
       "  '000063',\n",
       "  '000069',\n",
       "  '000100',\n",
       "  '000157',\n",
       "  '000333',\n",
       "  '000338',\n",
       "  '000402',\n",
       "  '000413',\n",
       "  '000415',\n",
       "  '000425',\n",
       "  '000503',\n",
       "  '000538',\n",
       "  '000540',\n",
       "  '000568',\n",
       "  '000623',\n",
       "  '000625',\n",
       "  '000651',\n",
       "  '000671',\n",
       "  '000709',\n",
       "  '000723',\n",
       "  '000725',\n",
       "  '000728',\n",
       "  '000738',\n",
       "  '000768',\n",
       "  '000776',\n",
       "  '000826',\n",
       "  '000839',\n",
       "  '000858',\n",
       "  '000876',\n",
       "  '000895',\n",
       "  '000898',\n",
       "  '000938',\n",
       "  '000959',\n",
       "  '000983',\n",
       "  '001979',\n",
       "  '002008',\n",
       "  '002024',\n",
       "  '002044',\n",
       "  '002065',\n",
       "  '002142',\n",
       "  '002146',\n",
       "  '002153',\n",
       "  '002174',\n",
       "  '002230',\n",
       "  '002236',\n",
       "  '002241',\n",
       "  '002252',\n",
       "  '002294',\n",
       "  '002304',\n",
       "  '002310',\n",
       "  '002352',\n",
       "  '002385',\n",
       "  '002411',\n",
       "  '002415',\n",
       "  '002424',\n",
       "  '002426',\n",
       "  '002450',\n",
       "  '002456',\n",
       "  '002465',\n",
       "  '002468',\n",
       "  '002470',\n",
       "  '002508',\n",
       "  '002572',\n",
       "  '002594',\n",
       "  '002601',\n",
       "  '002602',\n",
       "  '002608',\n",
       "  '002624',\n",
       "  '002736',\n",
       "  '002739',\n",
       "  '002831',\n",
       "  '002839',\n",
       "  '002841',\n",
       "  '300003',\n",
       "  '300024',\n",
       "  '300033',\n",
       "  '300070',\n",
       "  '300072',\n",
       "  '300122',\n",
       "  '300124',\n",
       "  '300136',\n",
       "  '300144',\n",
       "  '300315'],\n",
       " 'trending': []}"
      ]
     },
     "execution_count": 37,
     "metadata": {},
     "output_type": "execute_result"
    }
   ],
   "source": [
    "L2"
   ]
  },
  {
   "cell_type": "code",
   "execution_count": null,
   "metadata": {
    "collapsed": true
   },
   "outputs": [],
   "source": []
  }
 ],
 "metadata": {
  "kernelspec": {
   "display_name": "Python 3",
   "language": "python",
   "name": "python3"
  },
  "language_info": {
   "codemirror_mode": {
    "name": "ipython",
    "version": 3
   },
   "file_extension": ".py",
   "mimetype": "text/x-python",
   "name": "python",
   "nbconvert_exporter": "python",
   "pygments_lexer": "ipython3",
   "version": "3.6.1"
  }
 },
 "nbformat": 4,
 "nbformat_minor": 2
}
