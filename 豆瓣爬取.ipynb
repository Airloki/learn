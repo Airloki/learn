{
 "cells": [
  {
   "cell_type": "code",
   "execution_count": 1,
   "metadata": {
    "collapsed": true
   },
   "outputs": [],
   "source": [
    "import requests\n",
    "import bs4"
   ]
  },
  {
   "cell_type": "code",
   "execution_count": 2,
   "metadata": {
    "collapsed": true
   },
   "outputs": [],
   "source": [
    "res = requests.get(\"https://movie.douban.com/top250\")"
   ]
  },
  {
   "cell_type": "code",
   "execution_count": 3,
   "metadata": {
    "collapsed": true
   },
   "outputs": [],
   "source": [
    "soup = bs4.BeautifulSoup(res.text,'html.parser')"
   ]
  },
  {
   "cell_type": "code",
   "execution_count": 4,
   "metadata": {
    "collapsed": true
   },
   "outputs": [],
   "source": [
    "targets = soup.find_all(\"div\",class_=\"hd\")"
   ]
  },
  {
   "cell_type": "code",
   "execution_count": 5,
   "metadata": {},
   "outputs": [
    {
     "data": {
      "text/plain": [
       "[<div class=\"hd\">\n",
       " <a class=\"\" href=\"https://movie.douban.com/subject/1292052/\">\n",
       " <span class=\"title\">肖申克的救赎</span>\n",
       " <span class=\"title\"> / The Shawshank Redemption</span>\n",
       " <span class=\"other\"> / 月黑高飞(港)  /  刺激1995(台)</span>\n",
       " </a>\n",
       " <span class=\"playable\">[可播放]</span>\n",
       " </div>, <div class=\"hd\">\n",
       " <a class=\"\" href=\"https://movie.douban.com/subject/1291546/\">\n",
       " <span class=\"title\">霸王别姬</span>\n",
       " <span class=\"other\"> / 再见，我的妾  /  Farewell My Concubine</span>\n",
       " </a>\n",
       " <span class=\"playable\">[可播放]</span>\n",
       " </div>, <div class=\"hd\">\n",
       " <a class=\"\" href=\"https://movie.douban.com/subject/1295644/\">\n",
       " <span class=\"title\">这个杀手不太冷</span>\n",
       " <span class=\"title\"> / Léon</span>\n",
       " <span class=\"other\"> / 杀手莱昂  /  终极追杀令(台)</span>\n",
       " </a>\n",
       " <span class=\"playable\">[可播放]</span>\n",
       " </div>, <div class=\"hd\">\n",
       " <a class=\"\" href=\"https://movie.douban.com/subject/1292720/\">\n",
       " <span class=\"title\">阿甘正传</span>\n",
       " <span class=\"title\"> / Forrest Gump</span>\n",
       " <span class=\"other\"> / 福雷斯特·冈普</span>\n",
       " </a>\n",
       " <span class=\"playable\">[可播放]</span>\n",
       " </div>, <div class=\"hd\">\n",
       " <a class=\"\" href=\"https://movie.douban.com/subject/1292063/\">\n",
       " <span class=\"title\">美丽人生</span>\n",
       " <span class=\"title\"> / La vita è bella</span>\n",
       " <span class=\"other\"> / 一个快乐的传说(港)  /  Life Is Beautiful</span>\n",
       " </a>\n",
       " <span class=\"playable\">[可播放]</span>\n",
       " </div>, <div class=\"hd\">\n",
       " <a class=\"\" href=\"https://movie.douban.com/subject/1291561/\">\n",
       " <span class=\"title\">千与千寻</span>\n",
       " <span class=\"title\"> / 千と千尋の神隠し</span>\n",
       " <span class=\"other\"> / 神隐少女(台)  /  Spirited Away</span>\n",
       " </a>\n",
       " <span class=\"playable\">[可播放]</span>\n",
       " </div>, <div class=\"hd\">\n",
       " <a class=\"\" href=\"https://movie.douban.com/subject/1292722/\">\n",
       " <span class=\"title\">泰坦尼克号</span>\n",
       " <span class=\"title\"> / Titanic</span>\n",
       " <span class=\"other\"> / 铁达尼号(港 / 台)</span>\n",
       " </a>\n",
       " <span class=\"playable\">[可播放]</span>\n",
       " </div>, <div class=\"hd\">\n",
       " <a class=\"\" href=\"https://movie.douban.com/subject/1295124/\">\n",
       " <span class=\"title\">辛德勒的名单</span>\n",
       " <span class=\"title\"> / Schindler's List</span>\n",
       " <span class=\"other\"> / 舒特拉的名单(港)  /  辛德勒名单</span>\n",
       " </a>\n",
       " <span class=\"playable\">[可播放]</span>\n",
       " </div>, <div class=\"hd\">\n",
       " <a class=\"\" href=\"https://movie.douban.com/subject/3541415/\">\n",
       " <span class=\"title\">盗梦空间</span>\n",
       " <span class=\"title\"> / Inception</span>\n",
       " <span class=\"other\"> / 潜行凶间(港)  /  全面启动(台)</span>\n",
       " </a>\n",
       " <span class=\"playable\">[可播放]</span>\n",
       " </div>, <div class=\"hd\">\n",
       " <a class=\"\" href=\"https://movie.douban.com/subject/2131459/\">\n",
       " <span class=\"title\">机器人总动员</span>\n",
       " <span class=\"title\"> / WALL·E</span>\n",
       " <span class=\"other\"> / 瓦力(台)  /  太空奇兵·威E(港)</span>\n",
       " </a>\n",
       " <span class=\"playable\">[可播放]</span>\n",
       " </div>, <div class=\"hd\">\n",
       " <a class=\"\" href=\"https://movie.douban.com/subject/1292001/\">\n",
       " <span class=\"title\">海上钢琴师</span>\n",
       " <span class=\"title\"> / La leggenda del pianista sull'oceano</span>\n",
       " <span class=\"other\"> / 声光伴我飞(港)  /  一九零零的传奇</span>\n",
       " </a>\n",
       " </div>, <div class=\"hd\">\n",
       " <a class=\"\" href=\"https://movie.douban.com/subject/3793023/\">\n",
       " <span class=\"title\">三傻大闹宝莱坞</span>\n",
       " <span class=\"title\"> / 3 Idiots</span>\n",
       " <span class=\"other\"> / 三个傻瓜(台)  /  作死不离3兄弟(港)</span>\n",
       " </a>\n",
       " <span class=\"playable\">[可播放]</span>\n",
       " </div>, <div class=\"hd\">\n",
       " <a class=\"\" href=\"https://movie.douban.com/subject/3011091/\">\n",
       " <span class=\"title\">忠犬八公的故事</span>\n",
       " <span class=\"title\"> / Hachi: A Dog's Tale</span>\n",
       " <span class=\"other\"> / 忠犬小八(台)  /  秋田犬八千(港)</span>\n",
       " </a>\n",
       " <span class=\"playable\">[可播放]</span>\n",
       " </div>, <div class=\"hd\">\n",
       " <a class=\"\" href=\"https://movie.douban.com/subject/1291549/\">\n",
       " <span class=\"title\">放牛班的春天</span>\n",
       " <span class=\"title\"> / Les choristes</span>\n",
       " <span class=\"other\"> / 歌声伴我心(港)  /  唱诗班男孩</span>\n",
       " </a>\n",
       " <span class=\"playable\">[可播放]</span>\n",
       " </div>, <div class=\"hd\">\n",
       " <a class=\"\" href=\"https://movie.douban.com/subject/1292213/\">\n",
       " <span class=\"title\">大话西游之大圣娶亲</span>\n",
       " <span class=\"title\"> / 西遊記大結局之仙履奇緣</span>\n",
       " <span class=\"other\"> / 西游记完结篇仙履奇缘  /  齐天大圣西游记</span>\n",
       " </a>\n",
       " <span class=\"playable\">[可播放]</span>\n",
       " </div>, <div class=\"hd\">\n",
       " <a class=\"\" href=\"https://movie.douban.com/subject/1291841/\">\n",
       " <span class=\"title\">教父</span>\n",
       " <span class=\"title\"> / The Godfather</span>\n",
       " <span class=\"other\"> / Mario Puzo's The Godfather</span>\n",
       " </a>\n",
       " <span class=\"playable\">[可播放]</span>\n",
       " </div>, <div class=\"hd\">\n",
       " <a class=\"\" href=\"https://movie.douban.com/subject/1291560/\">\n",
       " <span class=\"title\">龙猫</span>\n",
       " <span class=\"title\"> / となりのトトロ</span>\n",
       " <span class=\"other\"> / 邻家的豆豆龙  /  隔壁的特特罗</span>\n",
       " </a>\n",
       " <span class=\"playable\">[可播放]</span>\n",
       " </div>, <div class=\"hd\">\n",
       " <a class=\"\" href=\"https://movie.douban.com/subject/1292064/\">\n",
       " <span class=\"title\">楚门的世界</span>\n",
       " <span class=\"title\"> / The Truman Show</span>\n",
       " <span class=\"other\"> / 真人Show(港)  /  真人戏</span>\n",
       " </a>\n",
       " <span class=\"playable\">[可播放]</span>\n",
       " </div>, <div class=\"hd\">\n",
       " <a class=\"\" href=\"https://movie.douban.com/subject/1300267/\">\n",
       " <span class=\"title\">乱世佳人</span>\n",
       " <span class=\"title\"> / Gone with the Wind</span>\n",
       " <span class=\"other\"> / 飘</span>\n",
       " </a>\n",
       " <span class=\"playable\">[可播放]</span>\n",
       " </div>, <div class=\"hd\">\n",
       " <a class=\"\" href=\"https://movie.douban.com/subject/5912992/\">\n",
       " <span class=\"title\">熔炉</span>\n",
       " <span class=\"title\"> / 도가니</span>\n",
       " <span class=\"other\"> / 无声呐喊(港)  /  漩涡</span>\n",
       " </a>\n",
       " </div>, <div class=\"hd\">\n",
       " <a class=\"\" href=\"https://movie.douban.com/subject/6786002/\">\n",
       " <span class=\"title\">触不可及</span>\n",
       " <span class=\"title\"> / Intouchables</span>\n",
       " <span class=\"other\"> / 闪亮人生(港)  /  逆转人生(台)</span>\n",
       " </a>\n",
       " <span class=\"playable\">[可播放]</span>\n",
       " </div>, <div class=\"hd\">\n",
       " <a class=\"\" href=\"https://movie.douban.com/subject/1889243/\">\n",
       " <span class=\"title\">星际穿越</span>\n",
       " <span class=\"title\"> / Interstellar</span>\n",
       " <span class=\"other\"> / 星际启示录(港)  /  星际效应(台)</span>\n",
       " </a>\n",
       " <span class=\"playable\">[可播放]</span>\n",
       " </div>, <div class=\"hd\">\n",
       " <a class=\"\" href=\"https://movie.douban.com/subject/1307914/\">\n",
       " <span class=\"title\">无间道</span>\n",
       " <span class=\"title\"> / 無間道</span>\n",
       " <span class=\"other\"> / Infernal Affairs  /  Mou gaan dou</span>\n",
       " </a>\n",
       " <span class=\"playable\">[可播放]</span>\n",
       " </div>, <div class=\"hd\">\n",
       " <a class=\"\" href=\"https://movie.douban.com/subject/1849031/\">\n",
       " <span class=\"title\">当幸福来敲门</span>\n",
       " <span class=\"title\"> / The Pursuit of Happyness</span>\n",
       " <span class=\"other\"> / 寻找快乐的故事(港)  /  追求快乐</span>\n",
       " </a>\n",
       " <span class=\"playable\">[可播放]</span>\n",
       " </div>, <div class=\"hd\">\n",
       " <a class=\"\" href=\"https://movie.douban.com/subject/1291828/\">\n",
       " <span class=\"title\">天堂电影院</span>\n",
       " <span class=\"title\"> / Nuovo Cinema Paradiso</span>\n",
       " <span class=\"other\"> / 星光伴我心(港)  /  新天堂乐园(台)</span>\n",
       " </a>\n",
       " <span class=\"playable\">[可播放]</span>\n",
       " </div>]"
      ]
     },
     "execution_count": 5,
     "metadata": {},
     "output_type": "execute_result"
    }
   ],
   "source": [
    "targets"
   ]
  },
  {
   "cell_type": "code",
   "execution_count": 6,
   "metadata": {},
   "outputs": [
    {
     "name": "stdout",
     "output_type": "stream",
     "text": [
      "肖申克的救赎\n",
      "霸王别姬\n",
      "这个杀手不太冷\n",
      "阿甘正传\n",
      "美丽人生\n",
      "千与千寻\n",
      "泰坦尼克号\n",
      "辛德勒的名单\n",
      "盗梦空间\n",
      "机器人总动员\n",
      "海上钢琴师\n",
      "三傻大闹宝莱坞\n",
      "忠犬八公的故事\n",
      "放牛班的春天\n",
      "大话西游之大圣娶亲\n",
      "教父\n",
      "龙猫\n",
      "楚门的世界\n",
      "乱世佳人\n",
      "熔炉\n",
      "触不可及\n",
      "星际穿越\n",
      "无间道\n",
      "当幸福来敲门\n",
      "天堂电影院\n"
     ]
    }
   ],
   "source": [
    "for each in targets:\n",
    "    print(each.a.span.text)"
   ]
  },
  {
   "cell_type": "code",
   "execution_count": null,
   "metadata": {
    "collapsed": true
   },
   "outputs": [],
   "source": []
  }
 ],
 "metadata": {
  "kernelspec": {
   "display_name": "Python 3",
   "language": "python",
   "name": "python3"
  },
  "language_info": {
   "codemirror_mode": {
    "name": "ipython",
    "version": 3
   },
   "file_extension": ".py",
   "mimetype": "text/x-python",
   "name": "python",
   "nbconvert_exporter": "python",
   "pygments_lexer": "ipython3",
   "version": "3.6.1"
  }
 },
 "nbformat": 4,
 "nbformat_minor": 2
}
